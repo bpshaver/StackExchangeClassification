{
 "cells": [
  {
   "cell_type": "markdown",
   "metadata": {},
   "source": [
    "### Updates a running list of most recent questions in each category"
   ]
  },
  {
   "cell_type": "code",
   "execution_count": 1,
   "metadata": {
    "collapsed": true
   },
   "outputs": [],
   "source": [
    "from SEData.data import *\n",
    "import numpy as np\n",
    "import pandas as pd\n",
    "from datetime import date"
   ]
  },
  {
   "cell_type": "code",
   "execution_count": 2,
   "metadata": {},
   "outputs": [
    {
     "name": "stdout",
     "output_type": "stream",
     "text": [
      "Last updated: 2017-10-08\n"
     ]
    }
   ],
   "source": [
    "print(\"Last updated: \"+str(date.today()))"
   ]
  },
  {
   "cell_type": "code",
   "execution_count": 3,
   "metadata": {
    "collapsed": true
   },
   "outputs": [],
   "source": [
    "question_links = populate_question_links()\n"
   ]
  },
  {
   "cell_type": "code",
   "execution_count": 4,
   "metadata": {
    "collapsed": true
   },
   "outputs": [],
   "source": [
    "former_questions = list(pd.read_csv('question_links.csv', squeeze = True, index_col=0))\n",
    "question_links = set(question_links + former_questions)\n",
    "pd.DataFrame(list(question_links)).to_csv('question_links.csv')\n",
    "del former_questions"
   ]
  },
  {
   "cell_type": "code",
   "execution_count": 5,
   "metadata": {
    "collapsed": true
   },
   "outputs": [],
   "source": [
    "questions = pd.DataFrame([fetch_cat_and_id(link) for link in question_links])\n",
    "questions[2] = question_links\n",
    "questions.columns = ['category','id', 'url']\n",
    "questions = questions.groupby('category').apply(max)\n",
    "questions = questions[['id','url']]"
   ]
  },
  {
   "cell_type": "code",
   "execution_count": 6,
   "metadata": {
    "collapsed": true
   },
   "outputs": [],
   "source": [
    "questions.to_csv('most_recent_by_category.csv')"
   ]
  },
  {
   "cell_type": "code",
   "execution_count": 7,
   "metadata": {
    "collapsed": true
   },
   "outputs": [],
   "source": [
    "questions.id = pd.to_numeric(questions.id)"
   ]
  },
  {
   "cell_type": "code",
   "execution_count": 8,
   "metadata": {},
   "outputs": [
    {
     "data": {
      "text/plain": [
       "65"
      ]
     },
     "execution_count": 8,
     "metadata": {},
     "output_type": "execute_result"
    }
   ],
   "source": [
    "len(questions)"
   ]
  },
  {
   "cell_type": "code",
   "execution_count": 9,
   "metadata": {},
   "outputs": [
    {
     "name": "stdout",
     "output_type": "stream",
     "text": [
      "                           id  \\\n",
      "category                        \n",
      "stackoverflow        46633065   \n",
      "math                  2463164   \n",
      "superuser             1256772   \n",
      "askubuntu              963103   \n",
      "english                413122   \n",
      "unix                   396855   \n",
      "tex                    395166   \n",
      "physics                361699   \n",
      "softwareengineering    358611   \n",
      "electronics            333365   \n",
      "gaming                 319285   \n",
      "stats                  306827   \n",
      "mathoverflow           282957   \n",
      "salesforce             193003   \n",
      "dba                    187017   \n",
      "codereview             177453   \n",
      "scifi                  171337   \n",
      "security               170833   \n",
      "mathematica            157359   \n",
      "gamedev                149031   \n",
      "codegolf               144633   \n",
      "ell                    142679   \n",
      "diy                    124000   \n",
      "ux                     112177   \n",
      "rpg                    108017   \n",
      "travel                 103375   \n",
      "workplace               99676   \n",
      "graphicdesign           98876   \n",
      "academia                97047   \n",
      "worldbuilding           94269   \n",
      "...                       ...   \n",
      "chemistry               83845   \n",
      "cs                      82180   \n",
      "movies                  81067   \n",
      "music                   62205   \n",
      "puzzling                55738   \n",
      "japanese                53369   \n",
      "crypto                  51785   \n",
      "aviation                44463   \n",
      "dsp                     43851   \n",
      "history                 40838   \n",
      "skeptics                39573   \n",
      "german                  39234   \n",
      "boardgames              38511   \n",
      "parenting               31857   \n",
      "writers                 30438   \n",
      "ethereum                27052   \n",
      "chinese                 26627   \n",
      "politics                25290   \n",
      "space                   23301   \n",
      "astronomy               23027   \n",
      "law                     22728   \n",
      "hinduism                21380   \n",
      "chess                   18707   \n",
      "lifehacks               17467   \n",
      "engineering             17297   \n",
      "outdoors                17218   \n",
      "russian                 15068   \n",
      "health                  13713   \n",
      "vi                      13689   \n",
      "interpersonal            5117   \n",
      "\n",
      "                                                                   url  \n",
      "category                                                                \n",
      "stackoverflow        https://stackoverflow.com/questions/46633065/m...  \n",
      "math                 https://math.stackexchange.com/questions/24631...  \n",
      "superuser            https://superuser.com/questions/1256772/can-in...  \n",
      "askubuntu            https://askubuntu.com/questions/963103/will-ad...  \n",
      "english              https://english.stackexchange.com/questions/41...  \n",
      "unix                 https://unix.stackexchange.com/questions/39685...  \n",
      "tex                  https://tex.stackexchange.com/questions/395166...  \n",
      "physics              https://physics.stackexchange.com/questions/36...  \n",
      "softwareengineering  https://softwareengineering.stackexchange.com/...  \n",
      "electronics          https://electronics.stackexchange.com/question...  \n",
      "gaming               https://gaming.stackexchange.com/questions/319...  \n",
      "stats                https://stats.stackexchange.com/questions/3068...  \n",
      "mathoverflow         https://mathoverflow.net/questions/282957/moti...  \n",
      "salesforce           https://salesforce.stackexchange.com/questions...  \n",
      "dba                  https://dba.stackexchange.com/questions/187017...  \n",
      "codereview           https://codereview.stackexchange.com/questions...  \n",
      "scifi                https://scifi.stackexchange.com/questions/1713...  \n",
      "security             https://security.stackexchange.com/questions/1...  \n",
      "mathematica          https://mathematica.stackexchange.com/question...  \n",
      "gamedev              https://gamedev.stackexchange.com/questions/14...  \n",
      "codegolf             https://codegolf.stackexchange.com/questions/1...  \n",
      "ell                  https://ell.stackexchange.com/questions/142679...  \n",
      "diy                  https://diy.stackexchange.com/questions/124000...  \n",
      "ux                   https://ux.stackexchange.com/questions/112177/...  \n",
      "rpg                  https://rpg.stackexchange.com/questions/108017...  \n",
      "travel               https://travel.stackexchange.com/questions/103...  \n",
      "workplace            https://workplace.stackexchange.com/questions/...  \n",
      "graphicdesign        https://graphicdesign.stackexchange.com/questi...  \n",
      "academia             https://academia.stackexchange.com/questions/9...  \n",
      "worldbuilding        https://worldbuilding.stackexchange.com/questi...  \n",
      "...                                                                ...  \n",
      "chemistry            https://chemistry.stackexchange.com/questions/...  \n",
      "cs                   https://cs.stackexchange.com/questions/82180/h...  \n",
      "movies               https://movies.stackexchange.com/questions/810...  \n",
      "music                https://music.stackexchange.com/questions/6220...  \n",
      "puzzling             https://puzzling.stackexchange.com/questions/5...  \n",
      "japanese             https://japanese.stackexchange.com/questions/5...  \n",
      "crypto               https://crypto.stackexchange.com/questions/517...  \n",
      "aviation             https://aviation.stackexchange.com/questions/4...  \n",
      "dsp                  https://dsp.stackexchange.com/questions/43851/...  \n",
      "history              https://history.stackexchange.com/questions/40...  \n",
      "skeptics             https://skeptics.stackexchange.com/questions/3...  \n",
      "german               https://german.stackexchange.com/questions/392...  \n",
      "boardgames           https://boardgames.stackexchange.com/questions...  \n",
      "parenting            https://parenting.stackexchange.com/questions/...  \n",
      "writers              https://writers.stackexchange.com/questions/30...  \n",
      "ethereum             https://ethereum.stackexchange.com/questions/2...  \n",
      "chinese              https://chinese.stackexchange.com/questions/26...  \n",
      "politics             https://politics.stackexchange.com/questions/2...  \n",
      "space                https://space.stackexchange.com/questions/2330...  \n",
      "astronomy            https://astronomy.stackexchange.com/questions/...  \n",
      "law                  https://law.stackexchange.com/questions/22728/...  \n",
      "hinduism             https://hinduism.stackexchange.com/questions/2...  \n",
      "chess                https://chess.stackexchange.com/questions/1870...  \n",
      "lifehacks            https://lifehacks.stackexchange.com/questions/...  \n",
      "engineering          https://engineering.stackexchange.com/question...  \n",
      "outdoors             https://outdoors.stackexchange.com/questions/1...  \n",
      "russian              https://russian.stackexchange.com/questions/15...  \n",
      "health               https://health.stackexchange.com/questions/137...  \n",
      "vi                   https://vi.stackexchange.com/questions/13689/i...  \n",
      "interpersonal        https://interpersonal.stackexchange.com/questi...  \n",
      "\n",
      "[65 rows x 2 columns]\n"
     ]
    }
   ],
   "source": [
    "print(questions.sort_values(by = 'id', ascending = False))"
   ]
  },
  {
   "cell_type": "code",
   "execution_count": null,
   "metadata": {
    "collapsed": true
   },
   "outputs": [],
   "source": []
  }
 ],
 "metadata": {
  "kernelspec": {
   "display_name": "Python 3",
   "language": "python",
   "name": "python3"
  },
  "language_info": {
   "codemirror_mode": {
    "name": "ipython",
    "version": 3
   },
   "file_extension": ".py",
   "mimetype": "text/x-python",
   "name": "python",
   "nbconvert_exporter": "python",
   "pygments_lexer": "ipython3",
   "version": "3.6.1"
  },
  "varInspector": {
   "cols": {
    "lenName": 16,
    "lenType": 16,
    "lenVar": 40
   },
   "kernels_config": {
    "python": {
     "delete_cmd_postfix": "",
     "delete_cmd_prefix": "del ",
     "library": "var_list.py",
     "varRefreshCmd": "print(var_dic_list())"
    },
    "r": {
     "delete_cmd_postfix": ") ",
     "delete_cmd_prefix": "rm(",
     "library": "var_list.r",
     "varRefreshCmd": "cat(var_dic_list()) "
    }
   },
   "types_to_exclude": [
    "module",
    "function",
    "builtin_function_or_method",
    "instance",
    "_Feature"
   ],
   "window_display": false
  }
 },
 "nbformat": 4,
 "nbformat_minor": 2
}
