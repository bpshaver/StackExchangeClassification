{
 "cells": [
  {
   "cell_type": "markdown",
   "metadata": {},
   "source": [
    "### Updates a running list of most recent questions in each category"
   ]
  },
  {
   "cell_type": "code",
   "execution_count": 1,
   "metadata": {
    "collapsed": true
   },
   "outputs": [],
   "source": [
    "from SEData.data import *\n",
    "import numpy as np\n",
    "import pandas as pd\n",
    "from datetime import date"
   ]
  },
  {
   "cell_type": "code",
   "execution_count": 2,
   "metadata": {},
   "outputs": [
    {
     "name": "stdout",
     "output_type": "stream",
     "text": [
      "Last updated: 2017-09-21\n"
     ]
    }
   ],
   "source": [
    "print(\"Last updated: \"+str(date.today()))"
   ]
  },
  {
   "cell_type": "code",
   "execution_count": 3,
   "metadata": {},
   "outputs": [],
   "source": [
    "question_links = populate_question_links()\n"
   ]
  },
  {
   "cell_type": "code",
   "execution_count": 4,
   "metadata": {
    "collapsed": true
   },
   "outputs": [],
   "source": [
    "former_questions = list(pd.read_csv('question_links.csv', squeeze = True, index_col=0))\n",
    "question_links = set(question_links + former_questions)\n",
    "pd.DataFrame(list(question_links)).to_csv('question_links.csv')\n",
    "del former_questions"
   ]
  },
  {
   "cell_type": "code",
   "execution_count": 5,
   "metadata": {
    "collapsed": true
   },
   "outputs": [],
   "source": [
    "questions = pd.DataFrame([fetch_cat_and_id(link) for link in question_links])\n",
    "questions[2] = question_links\n",
    "questions.columns = ['category','id', 'url']\n",
    "questions = questions.groupby('category').apply(max)\n",
    "questions = questions[['id','url']]"
   ]
  },
  {
   "cell_type": "code",
   "execution_count": 6,
   "metadata": {
    "collapsed": true
   },
   "outputs": [],
   "source": [
    "questions.to_csv('most_recent_by_category.csv')"
   ]
  },
  {
   "cell_type": "code",
   "execution_count": 7,
   "metadata": {},
   "outputs": [
    {
     "data": {
      "text/plain": [
       "44"
      ]
     },
     "execution_count": 7,
     "metadata": {},
     "output_type": "execute_result"
    }
   ],
   "source": [
    "len(questions)"
   ]
  },
  {
   "cell_type": "code",
   "execution_count": 8,
   "metadata": {},
   "outputs": [
    {
     "name": "stdout",
     "output_type": "stream",
     "text": [
      "                           id  \\\n",
      "category                        \n",
      "academia                96319   \n",
      "aviation                44009   \n",
      "blender                 90787   \n",
      "boardgames              38511   \n",
      "chemistry               82935   \n",
      "chess                   18618   \n",
      "chinese                 26627   \n",
      "codegolf               143376   \n",
      "dba                    186572   \n",
      "diy                    123733   \n",
      "dsp                     43851   \n",
      "electronics            330436   \n",
      "ell                    142679   \n",
      "english                410998   \n",
      "gamedev                148528   \n",
      "gaming                 318491   \n",
      "german                  39234   \n",
      "health                  13713   \n",
      "history                 40359   \n",
      "interpersonal            4386   \n",
      "japanese                53369   \n",
      "law                     22728   \n",
      "math                  2438751   \n",
      "mathematica            156183   \n",
      "mathoverflow           281687   \n",
      "money                   85253   \n",
      "parenting               31770   \n",
      "physics                357860   \n",
      "politics                24740   \n",
      "puzzling                55266   \n",
      "rpg                    107259   \n",
      "salesforce             193003   \n",
      "scifi                  170081   \n",
      "security               169782   \n",
      "softwareengineering    357745   \n",
      "stackoverflow        46341083   \n",
      "stats                  304308   \n",
      "tex                    392415   \n",
      "travel                 102518   \n",
      "unix                   393694   \n",
      "ux                     112004   \n",
      "workplace               99421   \n",
      "worldbuilding           92763   \n",
      "writers                 30335   \n",
      "\n",
      "                                                                   url  \n",
      "category                                                                \n",
      "academia             https://academia.stackexchange.com/questions/9...  \n",
      "aviation             https://aviation.stackexchange.com/questions/4...  \n",
      "blender              https://blender.stackexchange.com/questions/90...  \n",
      "boardgames           https://boardgames.stackexchange.com/questions...  \n",
      "chemistry            https://chemistry.stackexchange.com/questions/...  \n",
      "chess                https://chess.stackexchange.com/questions/1861...  \n",
      "chinese              https://chinese.stackexchange.com/questions/26...  \n",
      "codegolf             https://codegolf.stackexchange.com/questions/1...  \n",
      "dba                  https://dba.stackexchange.com/questions/186572...  \n",
      "diy                  https://diy.stackexchange.com/questions/123733...  \n",
      "dsp                  https://dsp.stackexchange.com/questions/43851/...  \n",
      "electronics          https://electronics.stackexchange.com/question...  \n",
      "ell                  https://ell.stackexchange.com/questions/142679...  \n",
      "english              https://english.stackexchange.com/questions/41...  \n",
      "gamedev              https://gamedev.stackexchange.com/questions/14...  \n",
      "gaming               https://gaming.stackexchange.com/questions/318...  \n",
      "german               https://german.stackexchange.com/questions/392...  \n",
      "health               https://health.stackexchange.com/questions/137...  \n",
      "history              https://history.stackexchange.com/questions/40...  \n",
      "interpersonal        https://interpersonal.stackexchange.com/questi...  \n",
      "japanese             https://japanese.stackexchange.com/questions/5...  \n",
      "law                  https://law.stackexchange.com/questions/22728/...  \n",
      "math                 https://math.stackexchange.com/questions/24387...  \n",
      "mathematica          https://mathematica.stackexchange.com/question...  \n",
      "mathoverflow         https://mathoverflow.net/questions/281687/russ...  \n",
      "money                https://money.stackexchange.com/questions/8525...  \n",
      "parenting            https://parenting.stackexchange.com/questions/...  \n",
      "physics              https://physics.stackexchange.com/questions/35...  \n",
      "politics             https://politics.stackexchange.com/questions/2...  \n",
      "puzzling             https://puzzling.stackexchange.com/questions/5...  \n",
      "rpg                  https://rpg.stackexchange.com/questions/107259...  \n",
      "salesforce           https://salesforce.stackexchange.com/questions...  \n",
      "scifi                https://scifi.stackexchange.com/questions/1700...  \n",
      "security             https://security.stackexchange.com/questions/1...  \n",
      "softwareengineering  https://softwareengineering.stackexchange.com/...  \n",
      "stackoverflow        https://stackoverflow.com/questions/46341083/d...  \n",
      "stats                https://stats.stackexchange.com/questions/3043...  \n",
      "tex                  https://tex.stackexchange.com/questions/392415...  \n",
      "travel               https://travel.stackexchange.com/questions/102...  \n",
      "unix                 https://unix.stackexchange.com/questions/39369...  \n",
      "ux                   https://ux.stackexchange.com/questions/112004/...  \n",
      "workplace            https://workplace.stackexchange.com/questions/...  \n",
      "worldbuilding        https://worldbuilding.stackexchange.com/questi...  \n",
      "writers              https://writers.stackexchange.com/questions/30...  \n"
     ]
    }
   ],
   "source": [
    "print(questions)"
   ]
  }
 ],
 "metadata": {
  "kernelspec": {
   "display_name": "Python 3",
   "language": "python",
   "name": "python3"
  },
  "language_info": {
   "codemirror_mode": {
    "name": "ipython",
    "version": 3
   },
   "file_extension": ".py",
   "mimetype": "text/x-python",
   "name": "python",
   "nbconvert_exporter": "python",
   "pygments_lexer": "ipython3",
   "version": "3.6.1"
  }
 },
 "nbformat": 4,
 "nbformat_minor": 2
}
