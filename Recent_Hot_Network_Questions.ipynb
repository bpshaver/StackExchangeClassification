{
 "cells": [
  {
   "cell_type": "markdown",
   "metadata": {},
   "source": [
    "### Updates a running list of most recent questions in each category"
   ]
  },
  {
   "cell_type": "code",
   "execution_count": 1,
   "metadata": {
    "collapsed": true
   },
   "outputs": [],
   "source": [
    "from SEData.data import *\n",
    "import numpy as np\n",
    "import pandas as pd\n",
    "from datetime import date"
   ]
  },
  {
   "cell_type": "code",
   "execution_count": 2,
   "metadata": {},
   "outputs": [
    {
     "name": "stdout",
     "output_type": "stream",
     "text": [
      "Last updated: 2017-09-27\n"
     ]
    }
   ],
   "source": [
    "print(\"Last updated: \"+str(date.today()))"
   ]
  },
  {
   "cell_type": "code",
   "execution_count": 3,
   "metadata": {
    "collapsed": true
   },
   "outputs": [],
   "source": [
    "question_links = populate_question_links()\n"
   ]
  },
  {
   "cell_type": "code",
   "execution_count": 4,
   "metadata": {
    "collapsed": true
   },
   "outputs": [],
   "source": [
    "former_questions = list(pd.read_csv('question_links.csv', squeeze = True, index_col=0))\n",
    "question_links = set(question_links + former_questions)\n",
    "pd.DataFrame(list(question_links)).to_csv('question_links.csv')\n",
    "del former_questions"
   ]
  },
  {
   "cell_type": "code",
   "execution_count": 5,
   "metadata": {
    "collapsed": true
   },
   "outputs": [],
   "source": [
    "questions = pd.DataFrame([fetch_cat_and_id(link) for link in question_links])\n",
    "questions[2] = question_links\n",
    "questions.columns = ['category','id', 'url']\n",
    "questions = questions.groupby('category').apply(max)\n",
    "questions = questions[['id','url']]"
   ]
  },
  {
   "cell_type": "code",
   "execution_count": 6,
   "metadata": {
    "collapsed": true
   },
   "outputs": [],
   "source": [
    "questions.to_csv('most_recent_by_category.csv')"
   ]
  },
  {
   "cell_type": "code",
   "execution_count": 7,
   "metadata": {
    "collapsed": true
   },
   "outputs": [],
   "source": [
    "questions.id = pd.to_numeric(questions.id)"
   ]
  },
  {
   "cell_type": "code",
   "execution_count": 8,
   "metadata": {},
   "outputs": [
    {
     "data": {
      "text/plain": [
       "60"
      ]
     },
     "execution_count": 8,
     "metadata": {},
     "output_type": "execute_result"
    }
   ],
   "source": [
    "len(questions)"
   ]
  },
  {
   "cell_type": "code",
   "execution_count": 9,
   "metadata": {},
   "outputs": [
    {
     "name": "stdout",
     "output_type": "stream",
     "text": [
      "                           id  \\\n",
      "category                        \n",
      "stackoverflow        46446652   \n",
      "math                  2447434   \n",
      "superuser             1254125   \n",
      "askubuntu              959520   \n",
      "english                411586   \n",
      "unix                   394695   \n",
      "tex                    393529   \n",
      "physics                359088   \n",
      "softwareengineering    358068   \n",
      "electronics            331431   \n",
      "gaming                 318491   \n",
      "stats                  304988   \n",
      "mathoverflow           282021   \n",
      "salesforce             193003   \n",
      "dba                    187017   \n",
      "codereview             176622   \n",
      "scifi                  170559   \n",
      "security               169782   \n",
      "mathematica            156592   \n",
      "gamedev                148528   \n",
      "codegolf               143839   \n",
      "ell                    142679   \n",
      "diy                    124000   \n",
      "ux                     112177   \n",
      "rpg                    107516   \n",
      "travel                 102831   \n",
      "workplace               99676   \n",
      "graphicdesign           98876   \n",
      "academia                96491   \n",
      "worldbuilding           93392   \n",
      "blender                 90787   \n",
      "judaism                 85821   \n",
      "money                   85534   \n",
      "cooking                 84665   \n",
      "chemistry               83164   \n",
      "movies                  80827   \n",
      "music                   62205   \n",
      "puzzling                55418   \n",
      "japanese                53369   \n",
      "crypto                  51785   \n",
      "aviation                44129   \n",
      "dsp                     43851   \n",
      "history                 40501   \n",
      "skeptics                39573   \n",
      "german                  39234   \n",
      "boardgames              38511   \n",
      "parenting               31857   \n",
      "writers                 30438   \n",
      "ethereum                27052   \n",
      "chinese                 26627   \n",
      "politics                24884   \n",
      "law                     22728   \n",
      "chess                   18707   \n",
      "lifehacks               17467   \n",
      "engineering             17297   \n",
      "outdoors                17218   \n",
      "russian                 15068   \n",
      "health                  13713   \n",
      "vi                      13689   \n",
      "interpersonal            4632   \n",
      "\n",
      "                                                                   url  \n",
      "category                                                                \n",
      "stackoverflow        https://stackoverflow.com/questions/46446652/i...  \n",
      "math                 https://math.stackexchange.com/questions/24474...  \n",
      "superuser            https://superuser.com/questions/1254125/my-mic...  \n",
      "askubuntu            https://askubuntu.com/questions/959520/how-can...  \n",
      "english              https://english.stackexchange.com/questions/41...  \n",
      "unix                 https://unix.stackexchange.com/questions/39469...  \n",
      "tex                  https://tex.stackexchange.com/questions/393529...  \n",
      "physics              https://physics.stackexchange.com/questions/35...  \n",
      "softwareengineering  https://softwareengineering.stackexchange.com/...  \n",
      "electronics          https://electronics.stackexchange.com/question...  \n",
      "gaming               https://gaming.stackexchange.com/questions/318...  \n",
      "stats                https://stats.stackexchange.com/questions/3049...  \n",
      "mathoverflow         https://mathoverflow.net/questions/282021/dete...  \n",
      "salesforce           https://salesforce.stackexchange.com/questions...  \n",
      "dba                  https://dba.stackexchange.com/questions/187017...  \n",
      "codereview           https://codereview.stackexchange.com/questions...  \n",
      "scifi                https://scifi.stackexchange.com/questions/1705...  \n",
      "security             https://security.stackexchange.com/questions/1...  \n",
      "mathematica          https://mathematica.stackexchange.com/question...  \n",
      "gamedev              https://gamedev.stackexchange.com/questions/14...  \n",
      "codegolf             https://codegolf.stackexchange.com/questions/1...  \n",
      "ell                  https://ell.stackexchange.com/questions/142679...  \n",
      "diy                  https://diy.stackexchange.com/questions/124000...  \n",
      "ux                   https://ux.stackexchange.com/questions/112177/...  \n",
      "rpg                  https://rpg.stackexchange.com/questions/107516...  \n",
      "travel               https://travel.stackexchange.com/questions/102...  \n",
      "workplace            https://workplace.stackexchange.com/questions/...  \n",
      "graphicdesign        https://graphicdesign.stackexchange.com/questi...  \n",
      "academia             https://academia.stackexchange.com/questions/9...  \n",
      "worldbuilding        https://worldbuilding.stackexchange.com/questi...  \n",
      "blender              https://blender.stackexchange.com/questions/90...  \n",
      "judaism              https://judaism.stackexchange.com/questions/85...  \n",
      "money                https://money.stackexchange.com/questions/8553...  \n",
      "cooking              https://cooking.stackexchange.com/questions/84...  \n",
      "chemistry            https://chemistry.stackexchange.com/questions/...  \n",
      "movies               https://movies.stackexchange.com/questions/808...  \n",
      "music                https://music.stackexchange.com/questions/6220...  \n",
      "puzzling             https://puzzling.stackexchange.com/questions/5...  \n",
      "japanese             https://japanese.stackexchange.com/questions/5...  \n",
      "crypto               https://crypto.stackexchange.com/questions/517...  \n",
      "aviation             https://aviation.stackexchange.com/questions/4...  \n",
      "dsp                  https://dsp.stackexchange.com/questions/43851/...  \n",
      "history              https://history.stackexchange.com/questions/40...  \n",
      "skeptics             https://skeptics.stackexchange.com/questions/3...  \n",
      "german               https://german.stackexchange.com/questions/392...  \n",
      "boardgames           https://boardgames.stackexchange.com/questions...  \n",
      "parenting            https://parenting.stackexchange.com/questions/...  \n",
      "writers              https://writers.stackexchange.com/questions/30...  \n",
      "ethereum             https://ethereum.stackexchange.com/questions/2...  \n",
      "chinese              https://chinese.stackexchange.com/questions/26...  \n",
      "politics             https://politics.stackexchange.com/questions/2...  \n",
      "law                  https://law.stackexchange.com/questions/22728/...  \n",
      "chess                https://chess.stackexchange.com/questions/1870...  \n",
      "lifehacks            https://lifehacks.stackexchange.com/questions/...  \n",
      "engineering          https://engineering.stackexchange.com/question...  \n",
      "outdoors             https://outdoors.stackexchange.com/questions/1...  \n",
      "russian              https://russian.stackexchange.com/questions/15...  \n",
      "health               https://health.stackexchange.com/questions/137...  \n",
      "vi                   https://vi.stackexchange.com/questions/13689/i...  \n",
      "interpersonal        https://interpersonal.stackexchange.com/questi...  \n"
     ]
    }
   ],
   "source": [
    "print(questions.sort_values(by = 'id', ascending = False))"
   ]
  }
 ],
 "metadata": {
  "kernelspec": {
   "display_name": "Python 3",
   "language": "python",
   "name": "python3"
  },
  "language_info": {
   "codemirror_mode": {
    "name": "ipython",
    "version": 3
   },
   "file_extension": ".py",
   "mimetype": "text/x-python",
   "name": "python",
   "nbconvert_exporter": "python",
   "pygments_lexer": "ipython3",
   "version": "3.6.1"
  }
 },
 "nbformat": 4,
 "nbformat_minor": 2
}
