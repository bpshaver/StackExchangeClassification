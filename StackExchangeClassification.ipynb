{
 "cells": [
  {
   "cell_type": "markdown",
   "metadata": {
    "collapsed": true
   },
   "source": [
    "# Web Scraping and Text Classification of Questions Asked on Stack Exchange"
   ]
  },
  {
   "cell_type": "markdown",
   "metadata": {},
   "source": [
    "## Import our web scraping functions defined in the SEData package:"
   ]
  },
  {
   "cell_type": "code",
   "execution_count": 6,
   "metadata": {
    "collapsed": true
   },
   "outputs": [],
   "source": [
    "from SEData.data import *"
   ]
  },
  {
   "cell_type": "markdown",
   "metadata": {},
   "source": [
    "## Populate a list of question URLs from Stack Exchange's current \"Hot Network Questions\"\n",
    "## Save list of categories from those links, and append to existing .csv file of SE categories"
   ]
  },
  {
   "cell_type": "code",
   "execution_count": 14,
   "metadata": {
    "collapsed": true
   },
   "outputs": [],
   "source": [
    "question_links = SEData.data.populate_question_links()\n",
    "categories = [find_cat(i) for i in question_links]\n",
    "\n",
    "\n",
    "former_categories = list(pd.read_csv('categories.csv', squeeze = True, index_col=0))\n",
    "categories = set(categories + former_categories)\n",
    "pd.DataFrame(list(categories)).to_csv('categories.csv')\n",
    "del former_categories"
   ]
  },
  {
   "cell_type": "code",
   "execution_count": 17,
   "metadata": {},
   "outputs": [
    {
     "name": "stdout",
     "output_type": "stream",
     "text": [
      "{'retrocomputing', 'ux', 'scifi', 'ell', 'networkengineering', 'tex', 'politics', 'cooking', 'worldbuilding', 'codegolf', 'mathoverflow', 'astronomy', 'gamedev', 'security', 'movies', 'academia', 'stackoverflow', 'askubuntu', 'math', 'music', 'money', 'english', 'superuser', 'skeptics', 'stats', 'electronics', 'workplace', 'unix', 'interpersonal', 'mathematica', 'physics', 'judaism', 'sqa', 'rpg', 'mechanics'}\n"
     ]
    }
   ],
   "source": [
    "print(categories)"
   ]
  },
  {
   "cell_type": "markdown",
   "metadata": {},
   "source": [
    "## We can use the get_text function to return the text corresponding to any SE question URL:"
   ]
  },
  {
   "cell_type": "code",
   "execution_count": 8,
   "metadata": {},
   "outputs": [
    {
     "data": {
      "text/plain": [
       "'As far back as I can remember, my first Hotmail emails, flip-phone texts, even handwritten letters—these events ages 10 to 16—I felt I communicated differently from others. In high school I kept (private) journals, sometimes filling up several pages in an hour, though in retrospect nothing of importance. Just feelings, wanderings, thoughts.In college, adhering to social norms became much more of a priority, and I struggled to keep texts and emails brief. I invented all kinds of rules for myself—word limits, then limits that varied by category, and of course, sleeping on it. My friends lovingly joked to others: You know you\\'re Andrew\\'s friend when he sends you a 5,000 word email. But I was always ashamed and tried to introspect causes. Was it a deep, irrational fear of being misunderstood? Some unsatisfiable tick that I was leaving essential details tout? Or a personality flaw, like being narcissistic with my words?Post-college, my \"system\" became more organic. I\\'d feel a \"red flag\" while typing a message, and usually be able to delete it on the spot and forget about it. Gradually this habit reinforced itself as each time I realized everything was still fine (without having sent a message). Later I\\'d try again, but the ennui of trying to recreate the original message usually won out, so I\\'d compose shorter and shorter messages with each red flag.Now on my way to my 30s, I\\'m happy to say that these habits have solidified, and I almost never send messages I\\'m embarrassed about. EXCEPT... when I\\'m under great distress, like after a breakup, during a disagreement, or a stressful project or event. I revert immediately to my old ways, feel out of control, and afterward feel childish and confused. Such messages also tax my friends or significant other, often worsen or complicate the situation, and make further communication burdensome or simply undesired.What can I do to mitigate this issue at the \"root\"? I can\\'t seem to rely on my developed habits (deleting the message then rewriting later; or simply delaying and editing) when in situations of great distress.I\\'m grateful for anyone who wants to help, but I\\'d especially appreciate words from those who live through this same experience, or therapists and other professionals who have helped others with this experience. It\\'s easy, for someone who isn\\'t me, to come up with tips, advice, rituals, wisdoms, lifehacks, etc... but without the context that makes it so hard for me, sometimes it\\'s just not complete. Maybe someone who knows what it\\'s like, might have some advice less accessible to others.'"
      ]
     },
     "execution_count": 8,
     "metadata": {},
     "output_type": "execute_result"
    }
   ],
   "source": [
    "get_text(question_links[5])"
   ]
  },
  {
   "cell_type": "code",
   "execution_count": null,
   "metadata": {
    "collapsed": true
   },
   "outputs": [],
   "source": []
  },
  {
   "cell_type": "code",
   "execution_count": 13,
   "metadata": {},
   "outputs": [],
   "source": []
  },
  {
   "cell_type": "code",
   "execution_count": null,
   "metadata": {
    "collapsed": true
   },
   "outputs": [],
   "source": []
  }
 ],
 "metadata": {
  "kernelspec": {
   "display_name": "Python 3",
   "language": "python",
   "name": "python3"
  },
  "language_info": {
   "codemirror_mode": {
    "name": "ipython",
    "version": 3
   },
   "file_extension": ".py",
   "mimetype": "text/x-python",
   "name": "python",
   "nbconvert_exporter": "python",
   "pygments_lexer": "ipython3",
   "version": "3.6.1"
  }
 },
 "nbformat": 4,
 "nbformat_minor": 2
}
