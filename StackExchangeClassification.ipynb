{
 "cells": [
  {
   "cell_type": "markdown",
   "metadata": {
    "collapsed": true
   },
   "source": [
    "# Web Scraping, Storing, Transforming, and Modelling Stack Exchange Questions"
   ]
  },
  {
   "cell_type": "code",
   "execution_count": 1,
   "metadata": {
    "collapsed": true
   },
   "outputs": [],
   "source": [
    "from SEData.data import *\n",
    "import numpy as np\n",
    "import pandas as pd\n",
    "from sklearn.feature_extraction.text import TfidfVectorizer\n",
    "from sklearn.model_selection import train_test_split\n",
    "from sklearn.tree import DecisionTreeClassifier\n",
    "from sklearn.metrics import accuracy_score\n",
    "from time import sleep\n",
    "from random import randint\n",
    "import os\n",
    "from datetime import date"
   ]
  },
  {
   "cell_type": "code",
   "execution_count": 53,
   "metadata": {
    "collapsed": true
   },
   "outputs": [],
   "source": [
    "questions = pd.read_csv('most_recent_by_category.csv', squeeze = True, index_col=0)\n",
    "links_already_scraped = pd.read_csv('links_scraped.csv', squeeze= True, index_col=0)"
   ]
  },
  {
   "cell_type": "code",
   "execution_count": 58,
   "metadata": {},
   "outputs": [
    {
     "name": "stdout",
     "output_type": "stream",
     "text": [
      "Data set of 1000 observations, 15 for each of 65 categories.\n"
     ]
    }
   ],
   "source": [
    "n = 1000 # Size of data set\n",
    "l = round(n/ len(questions)) #Will create l links for each category. Also ensures balanced labels.\n",
    "print(\"Data set of \" + str(n) + ' observations, ' + str(l) + ' for each of ' + str(len(questions)) + ' categories.')\n",
    "data_links = back_generate_links(questions['url'], l)"
   ]
  },
  {
   "cell_type": "code",
   "execution_count": 59,
   "metadata": {},
   "outputs": [
    {
     "name": "stdout",
     "output_type": "stream",
     "text": [
      "385 new links not yet added to dataset\n"
     ]
    }
   ],
   "source": [
    "data_links = [i for i in data_links if i not in list(links_already_scraped)]\n",
    "print(str(len(data_links)) + \" new links not yet added to dataset\")"
   ]
  },
  {
   "cell_type": "markdown",
   "metadata": {},
   "source": [
    "# Web Scraping (Takes a while)"
   ]
  },
  {
   "cell_type": "code",
   "execution_count": null,
   "metadata": {
    "collapsed": true
   },
   "outputs": [],
   "source": [
    "%%timeit\n",
    "if len(data_links) > 0:\n",
    "    data = pd.DataFrame([get_text(link, pause = True) for link in data_links])\n",
    "\n",
    "\n",
    "    data.dropna(axis = 0, how = 'any', inplace = True) #Drop NAs in place.\n",
    "    data.columns = ['labels','text']\n",
    "\n",
    "    data.to_csv('Full_Data_Set.csv', mode = 'a', header=True, encoding= 'utf8', columns=['labels','text'])\n",
    "\n",
    "    links_df = pd.DataFrame({'url':data_links})\n",
    "    links_df.to_csv('links_scraped.csv', mode = 'a', header=True, encoding= 'utf8')\n",
    "else:\n",
    "    print(\"No new links to process\")\n",
    "    \n"
   ]
  },
  {
   "cell_type": "code",
   "execution_count": 57,
   "metadata": {},
   "outputs": [
    {
     "data": {
      "text/plain": [
       "'759.7 KB'"
      ]
     },
     "execution_count": 57,
     "metadata": {},
     "output_type": "execute_result"
    }
   ],
   "source": [
    "# Credit to: https://stackoverflow.com/questions/2104080/how-to-check-file-size-in-python\n",
    "def convert_bytes(num):\n",
    "    \"\"\"\n",
    "    this function will convert bytes to MB.... GB... etc\n",
    "    \"\"\"\n",
    "    for x in ['bytes', 'KB', 'MB', 'GB', 'TB']:\n",
    "        if num < 1024.0:\n",
    "            return \"%3.1f %s\" % (num, x)\n",
    "        num /= 1024.0\n",
    "\n",
    "\n",
    "def file_size(file_path):\n",
    "    \"\"\"\n",
    "    this function will return the file size\n",
    "    \"\"\"\n",
    "    if os.path.isfile(file_path):\n",
    "        file_info = os.stat(file_path)\n",
    "        return convert_bytes(file_info.st_size)\n",
    "\n",
    "file_size('Full_Data_Set.csv')\n"
   ]
  },
  {
   "cell_type": "markdown",
   "metadata": {},
   "source": [
    "# Split training and test data"
   ]
  },
  {
   "cell_type": "code",
   "execution_count": 40,
   "metadata": {
    "collapsed": true
   },
   "outputs": [],
   "source": [
    "# data = pd.read_csv('5000Questions.csv', engine='python')[['labels', 'text']]\n",
    "data = pd.read_csv('Full_Data_Set.csv', engine='python')[['labels', 'text']]\n",
    "data = data[data.isin(questions.index)['labels']] # Filter out messy data, including 'None' values"
   ]
  },
  {
   "cell_type": "code",
   "execution_count": 42,
   "metadata": {},
   "outputs": [
    {
     "data": {
      "text/plain": [
       "array(['academia', 'astronomy', 'aviation', 'blender', 'boardgames',\n",
       "       'chemistry', 'chess', 'chinese', 'codegolf', 'codereview',\n",
       "       'cooking', 'crypto', 'dba', 'diy', 'dsp', 'electronics', 'ell',\n",
       "       'engineering', 'english', 'ethereum', 'gamedev', 'gaming', 'german',\n",
       "       'graphicdesign', 'health', 'hinduism', 'history', 'interpersonal',\n",
       "       'japanese', 'judaism', 'law', 'lifehacks', 'math', 'mathematica',\n",
       "       'mathoverflow', 'money', 'movies', 'music', 'outdoors', 'parenting',\n",
       "       'photo', 'physics', 'politics', 'puzzling', 'rpg', 'russian',\n",
       "       'salesforce', 'scifi', 'security', 'skeptics',\n",
       "       'softwareengineering', 'stats', 'tex', 'travel', 'unix', 'ux', 'vi',\n",
       "       'workplace', 'worldbuilding', 'writers'], dtype=object)"
      ]
     },
     "execution_count": 42,
     "metadata": {},
     "output_type": "execute_result"
    }
   ],
   "source": [
    "data['labels'].unique()"
   ]
  },
  {
   "cell_type": "code",
   "execution_count": null,
   "metadata": {
    "collapsed": true
   },
   "outputs": [],
   "source": []
  },
  {
   "cell_type": "markdown",
   "metadata": {},
   "source": [
    "Train test split:"
   ]
  },
  {
   "cell_type": "code",
   "execution_count": 43,
   "metadata": {
    "collapsed": true
   },
   "outputs": [],
   "source": [
    "train_data, test_data = train_test_split(data, test_size = .20) #stratify = data['labels'])"
   ]
  },
  {
   "cell_type": "code",
   "execution_count": 44,
   "metadata": {
    "collapsed": true
   },
   "outputs": [],
   "source": [
    "train_corpus = train_data['text']\n",
    "train_labels = train_data['labels']\n",
    "test_corpus = test_data['text']\n",
    "test_labels = test_data['labels']"
   ]
  },
  {
   "cell_type": "code",
   "execution_count": 45,
   "metadata": {},
   "outputs": [
    {
     "data": {
      "text/plain": [
       "' I am creating a VR game Currently Im testing it on an Android device Now I when I run the application it runs smoothly and without any issue However when I add the following model  And attempt to look at it the game crashes  The model you see doesnt have any scripts on him only a transform component and an animator Has anyone tried something similar or have an idea what the issue might be Update i have also tried this following scene So i tried to isolate the character completely from my original scene So i made this   Again if i have the character in the scene it crashes if i remove the character it runs perfectly fine  Another update If i remove the animator component from the model it works fine '"
      ]
     },
     "execution_count": 45,
     "metadata": {},
     "output_type": "execute_result"
    }
   ],
   "source": [
    "data['text'][390]"
   ]
  },
  {
   "cell_type": "markdown",
   "metadata": {},
   "source": [
    "# Transform data"
   ]
  },
  {
   "cell_type": "code",
   "execution_count": 46,
   "metadata": {},
   "outputs": [],
   "source": [
    "tfidf = TfidfVectorizer(stop_words = 'english',\n",
    "                        max_features = 2000,\n",
    "                        ngram_range=(1,3))\n",
    "train_matrix = tfidf.fit_transform(train_corpus)"
   ]
  },
  {
   "cell_type": "code",
   "execution_count": 47,
   "metadata": {
    "collapsed": true
   },
   "outputs": [],
   "source": [
    "test_matrix = tfidf.transform(test_corpus)\n"
   ]
  },
  {
   "cell_type": "markdown",
   "metadata": {},
   "source": [
    "# Begin modelling"
   ]
  },
  {
   "cell_type": "markdown",
   "metadata": {},
   "source": [
    "##### X_train : train_matrix\n",
    "##### y_train : train_labels\n",
    "##### X_test : test_matrix\n",
    "##### y_test : test_labels"
   ]
  },
  {
   "cell_type": "code",
   "execution_count": 48,
   "metadata": {
    "collapsed": true
   },
   "outputs": [],
   "source": [
    "from sklearn.ensemble import RandomForestClassifier\n",
    "\n",
    "forest = RandomForestClassifier(max_features = 'sqrt', n_estimators=100)\n",
    "forest.fit(train_matrix, train_labels)\n",
    "\n",
    "pred_labels = forest.predict(test_matrix)"
   ]
  },
  {
   "cell_type": "code",
   "execution_count": 49,
   "metadata": {},
   "outputs": [
    {
     "name": "stdout",
     "output_type": "stream",
     "text": [
      "0.517766497462\n"
     ]
    }
   ],
   "source": [
    "print(accuracy_score(test_labels, pred_labels))"
   ]
  },
  {
   "cell_type": "markdown",
   "metadata": {},
   "source": [
    "## Grid Search Cross Validation to Tune Hyper-parameters of Random Forest"
   ]
  },
  {
   "cell_type": "code",
   "execution_count": null,
   "metadata": {
    "collapsed": true
   },
   "outputs": [],
   "source": [
    "from sklearn.model_selection  import GridSearchCV"
   ]
  },
  {
   "cell_type": "code",
   "execution_count": null,
   "metadata": {
    "collapsed": true
   },
   "outputs": [],
   "source": [
    "param_grid = {'n_estimators' = [10, 100, 500], 'max_features' =  ['auto', 'sqrt', 'log2']}"
   ]
  },
  {
   "cell_type": "code",
   "execution_count": null,
   "metadata": {
    "collapsed": true
   },
   "outputs": [],
   "source": [
    "CV_forest = GridSearchCV(estimator = forest, param_grid = param_grid, cv = 5)"
   ]
  },
  {
   "cell_type": "code",
   "execution_count": null,
   "metadata": {
    "collapsed": true
   },
   "outputs": [],
   "source": [
    "CV_forest.fit(train_matrix, train_labels)\n",
    "print(CV_rfc.best_params_)"
   ]
  },
  {
   "cell_type": "code",
   "execution_count": null,
   "metadata": {
    "collapsed": true
   },
   "outputs": [],
   "source": [
    "from sklearn.grid_search import GridSearchCV\n",
    "from sklearn.datasets import make_classification\n",
    "from sklearn.ensemble import RandomForestClassifier\n",
    "# Build a classification task using 3 informative features\n",
    "X, y = make_classification(n_samples=1000,\n",
    "                           n_features=10,\n",
    "                           n_informative=3,\n",
    "                           n_redundant=0,\n",
    "                           n_repeated=0,\n",
    "                           n_classes=2,\n",
    "                           random_state=0,\n",
    "                           shuffle=False)\n",
    "\n",
    "\n",
    "rfc = RandomForestClassifier(n_jobs=-1,max_features= 'sqrt' ,n_estimators=50, oob_score = True) \n",
    "\n",
    "param_grid = { \n",
    "    'n_estimators': [200, 700],\n",
    "    'max_features': ['auto', 'sqrt', 'log2']\n",
    "}\n",
    "\n",
    "CV_rfc = GridSearchCV(estimator=rfc, param_grid=param_grid, cv= 5)\n",
    "CV_rfc.fit(X, y)\n",
    "print CV_rfc.best_params_"
   ]
  },
  {
   "cell_type": "markdown",
   "metadata": {},
   "source": [
    "# Visualizing Model Results"
   ]
  },
  {
   "cell_type": "code",
   "execution_count": 50,
   "metadata": {},
   "outputs": [
    {
     "data": {
      "text/html": [
       "<div>\n",
       "<style>\n",
       "    .dataframe thead tr:only-child th {\n",
       "        text-align: right;\n",
       "    }\n",
       "\n",
       "    .dataframe thead th {\n",
       "        text-align: left;\n",
       "    }\n",
       "\n",
       "    .dataframe tbody tr th {\n",
       "        vertical-align: top;\n",
       "    }\n",
       "</style>\n",
       "<table border=\"1\" class=\"dataframe\">\n",
       "  <thead>\n",
       "    <tr style=\"text-align: right;\">\n",
       "      <th></th>\n",
       "      <th>50 Predicted Data Labels</th>\n",
       "      <th>50 Test Data Labels</th>\n",
       "    </tr>\n",
       "  </thead>\n",
       "  <tbody>\n",
       "    <tr>\n",
       "      <th>334</th>\n",
       "      <td>travel</td>\n",
       "      <td>ell</td>\n",
       "    </tr>\n",
       "    <tr>\n",
       "      <th>153</th>\n",
       "      <td>workplace</td>\n",
       "      <td>aviation</td>\n",
       "    </tr>\n",
       "    <tr>\n",
       "      <th>936</th>\n",
       "      <td>writers</td>\n",
       "      <td>writers</td>\n",
       "    </tr>\n",
       "    <tr>\n",
       "      <th>703</th>\n",
       "      <td>ethereum</td>\n",
       "      <td>puzzling</td>\n",
       "    </tr>\n",
       "    <tr>\n",
       "      <th>185</th>\n",
       "      <td>chess</td>\n",
       "      <td>boardgames</td>\n",
       "    </tr>\n",
       "    <tr>\n",
       "      <th>592</th>\n",
       "      <td>lifehacks</td>\n",
       "      <td>money</td>\n",
       "    </tr>\n",
       "    <tr>\n",
       "      <th>324</th>\n",
       "      <td>dsp</td>\n",
       "      <td>electronics</td>\n",
       "    </tr>\n",
       "    <tr>\n",
       "      <th>445</th>\n",
       "      <td>health</td>\n",
       "      <td>health</td>\n",
       "    </tr>\n",
       "    <tr>\n",
       "      <th>193</th>\n",
       "      <td>mathematica</td>\n",
       "      <td>chemistry</td>\n",
       "    </tr>\n",
       "    <tr>\n",
       "      <th>729</th>\n",
       "      <td>russian</td>\n",
       "      <td>russian</td>\n",
       "    </tr>\n",
       "    <tr>\n",
       "      <th>305</th>\n",
       "      <td>history</td>\n",
       "      <td>diy</td>\n",
       "    </tr>\n",
       "    <tr>\n",
       "      <th>162</th>\n",
       "      <td>dba</td>\n",
       "      <td>aviation</td>\n",
       "    </tr>\n",
       "    <tr>\n",
       "      <th>525</th>\n",
       "      <td>law</td>\n",
       "      <td>law</td>\n",
       "    </tr>\n",
       "    <tr>\n",
       "      <th>105</th>\n",
       "      <td>vi</td>\n",
       "      <td>outdoors</td>\n",
       "    </tr>\n",
       "    <tr>\n",
       "      <th>558</th>\n",
       "      <td>music</td>\n",
       "      <td>math</td>\n",
       "    </tr>\n",
       "    <tr>\n",
       "      <th>557</th>\n",
       "      <td>math</td>\n",
       "      <td>math</td>\n",
       "    </tr>\n",
       "    <tr>\n",
       "      <th>202</th>\n",
       "      <td>chess</td>\n",
       "      <td>chess</td>\n",
       "    </tr>\n",
       "    <tr>\n",
       "      <th>806</th>\n",
       "      <td>skeptics</td>\n",
       "      <td>skeptics</td>\n",
       "    </tr>\n",
       "    <tr>\n",
       "      <th>355</th>\n",
       "      <td>vi</td>\n",
       "      <td>engineering</td>\n",
       "    </tr>\n",
       "    <tr>\n",
       "      <th>6</th>\n",
       "      <td>boardgames</td>\n",
       "      <td>chess</td>\n",
       "    </tr>\n",
       "    <tr>\n",
       "      <th>763</th>\n",
       "      <td>scifi</td>\n",
       "      <td>scifi</td>\n",
       "    </tr>\n",
       "    <tr>\n",
       "      <th>588</th>\n",
       "      <td>mathematica</td>\n",
       "      <td>mathoverflow</td>\n",
       "    </tr>\n",
       "    <tr>\n",
       "      <th>960</th>\n",
       "      <td>politics</td>\n",
       "      <td>aviation</td>\n",
       "    </tr>\n",
       "    <tr>\n",
       "      <th>181</th>\n",
       "      <td>boardgames</td>\n",
       "      <td>boardgames</td>\n",
       "    </tr>\n",
       "    <tr>\n",
       "      <th>272</th>\n",
       "      <td>crypto</td>\n",
       "      <td>crypto</td>\n",
       "    </tr>\n",
       "    <tr>\n",
       "      <th>585</th>\n",
       "      <td>mathoverflow</td>\n",
       "      <td>mathoverflow</td>\n",
       "    </tr>\n",
       "    <tr>\n",
       "      <th>248</th>\n",
       "      <td>codereview</td>\n",
       "      <td>codereview</td>\n",
       "    </tr>\n",
       "    <tr>\n",
       "      <th>899</th>\n",
       "      <td>vi</td>\n",
       "      <td>vi</td>\n",
       "    </tr>\n",
       "    <tr>\n",
       "      <th>177</th>\n",
       "      <td>blender</td>\n",
       "      <td>blender</td>\n",
       "    </tr>\n",
       "    <tr>\n",
       "      <th>387</th>\n",
       "      <td>codereview</td>\n",
       "      <td>gamedev</td>\n",
       "    </tr>\n",
       "    <tr>\n",
       "      <th>635</th>\n",
       "      <td>blender</td>\n",
       "      <td>outdoors</td>\n",
       "    </tr>\n",
       "    <tr>\n",
       "      <th>868</th>\n",
       "      <td>unix</td>\n",
       "      <td>unix</td>\n",
       "    </tr>\n",
       "    <tr>\n",
       "      <th>140</th>\n",
       "      <td>academia</td>\n",
       "      <td>academia</td>\n",
       "    </tr>\n",
       "    <tr>\n",
       "      <th>68</th>\n",
       "      <td>workplace</td>\n",
       "      <td>stats</td>\n",
       "    </tr>\n",
       "    <tr>\n",
       "      <th>549</th>\n",
       "      <td>puzzling</td>\n",
       "      <td>math</td>\n",
       "    </tr>\n",
       "    <tr>\n",
       "      <th>757</th>\n",
       "      <td>salesforce</td>\n",
       "      <td>salesforce</td>\n",
       "    </tr>\n",
       "    <tr>\n",
       "      <th>34</th>\n",
       "      <td>academia</td>\n",
       "      <td>mathoverflow</td>\n",
       "    </tr>\n",
       "    <tr>\n",
       "      <th>810</th>\n",
       "      <td>softwareengineering</td>\n",
       "      <td>softwareengineering</td>\n",
       "    </tr>\n",
       "    <tr>\n",
       "      <th>262</th>\n",
       "      <td>engineering</td>\n",
       "      <td>cooking</td>\n",
       "    </tr>\n",
       "    <tr>\n",
       "      <th>657</th>\n",
       "      <td>parenting</td>\n",
       "      <td>parenting</td>\n",
       "    </tr>\n",
       "    <tr>\n",
       "      <th>71</th>\n",
       "      <td>unix</td>\n",
       "      <td>aviation</td>\n",
       "    </tr>\n",
       "    <tr>\n",
       "      <th>101</th>\n",
       "      <td>mathematica</td>\n",
       "      <td>mathematica</td>\n",
       "    </tr>\n",
       "    <tr>\n",
       "      <th>774</th>\n",
       "      <td>scifi</td>\n",
       "      <td>scifi</td>\n",
       "    </tr>\n",
       "    <tr>\n",
       "      <th>46</th>\n",
       "      <td>vi</td>\n",
       "      <td>salesforce</td>\n",
       "    </tr>\n",
       "    <tr>\n",
       "      <th>888</th>\n",
       "      <td>dsp</td>\n",
       "      <td>ux</td>\n",
       "    </tr>\n",
       "    <tr>\n",
       "      <th>124</th>\n",
       "      <td>ux</td>\n",
       "      <td>ux</td>\n",
       "    </tr>\n",
       "    <tr>\n",
       "      <th>707</th>\n",
       "      <td>ethereum</td>\n",
       "      <td>puzzling</td>\n",
       "    </tr>\n",
       "    <tr>\n",
       "      <th>430</th>\n",
       "      <td>graphicdesign</td>\n",
       "      <td>graphicdesign</td>\n",
       "    </tr>\n",
       "    <tr>\n",
       "      <th>221</th>\n",
       "      <td>ell</td>\n",
       "      <td>chinese</td>\n",
       "    </tr>\n",
       "    <tr>\n",
       "      <th>615</th>\n",
       "      <td>movies</td>\n",
       "      <td>movies</td>\n",
       "    </tr>\n",
       "  </tbody>\n",
       "</table>\n",
       "</div>"
      ],
      "text/plain": [
       "    50 Predicted Data Labels  50 Test Data Labels\n",
       "334                   travel                  ell\n",
       "153                workplace             aviation\n",
       "936                  writers              writers\n",
       "703                 ethereum             puzzling\n",
       "185                    chess           boardgames\n",
       "592                lifehacks                money\n",
       "324                      dsp          electronics\n",
       "445                   health               health\n",
       "193              mathematica            chemistry\n",
       "729                  russian              russian\n",
       "305                  history                  diy\n",
       "162                      dba             aviation\n",
       "525                      law                  law\n",
       "105                       vi             outdoors\n",
       "558                    music                 math\n",
       "557                     math                 math\n",
       "202                    chess                chess\n",
       "806                 skeptics             skeptics\n",
       "355                       vi          engineering\n",
       "6                 boardgames                chess\n",
       "763                    scifi                scifi\n",
       "588              mathematica         mathoverflow\n",
       "960                 politics             aviation\n",
       "181               boardgames           boardgames\n",
       "272                   crypto               crypto\n",
       "585             mathoverflow         mathoverflow\n",
       "248               codereview           codereview\n",
       "899                       vi                   vi\n",
       "177                  blender              blender\n",
       "387               codereview              gamedev\n",
       "635                  blender             outdoors\n",
       "868                     unix                 unix\n",
       "140                 academia             academia\n",
       "68                 workplace                stats\n",
       "549                 puzzling                 math\n",
       "757               salesforce           salesforce\n",
       "34                  academia         mathoverflow\n",
       "810      softwareengineering  softwareengineering\n",
       "262              engineering              cooking\n",
       "657                parenting            parenting\n",
       "71                      unix             aviation\n",
       "101              mathematica          mathematica\n",
       "774                    scifi                scifi\n",
       "46                        vi           salesforce\n",
       "888                      dsp                   ux\n",
       "124                       ux                   ux\n",
       "707                 ethereum             puzzling\n",
       "430            graphicdesign        graphicdesign\n",
       "221                      ell              chinese\n",
       "615                   movies               movies"
      ]
     },
     "execution_count": 50,
     "metadata": {},
     "output_type": "execute_result"
    }
   ],
   "source": [
    "pd.DataFrame({\"50 Test Data Labels\":test_labels[:50], \"50 Predicted Data Labels\":pred_labels[:50]})"
   ]
  },
  {
   "cell_type": "code",
   "execution_count": 51,
   "metadata": {},
   "outputs": [
    {
     "name": "stdout",
     "output_type": "stream",
     "text": [
      "['double' 'combination' 'listed' 'lists' 'tests' 'paragraph' 'chosen'\n",
      " 'beginning' 'relevant' 'legal' 'addition' 'equivalent' 'smart'\n",
      " 'specifically' 'ones' 'normal' 'taken' 'far' 'makes' 'specific' 'little'\n",
      " 'possible' 'problem' 'new' 'greater' 'graphics' 'graveyard' 'graphic'\n",
      " 'great' 'government' 'got' 'ƒã' 'greatestprimefactori' 'green' 'ground'\n",
      " 'group' 'good' 'group group' 'groups' 'grow' 'grow new' 'grow new teeth'\n",
      " 'grown' 'grown stuff' 'growth' 'guarantee' 'google' 'girl' 'gone' 'going'\n",
      " 'fx' 'fã¼r' 'gain' 'game' 'games' 'gamma' 'gas' 'gear' 'gear solid'\n",
      " 'gear solid phantom' 'general' 'generally' 'generaterandomnumbers'\n",
      " 'generation' 'generic' 'genotypefile' 'germany' 'gets' 'getting' 'guess'\n",
      " 'given' 'gives' 'goal' 'god' 'goes' 'guard' 'hand' 'gun'\n",
      " 'ho cprogram files' 'helps' 'heres' 'hes' 'hex' 'high' 'highend'\n",
      " 'highend car' 'higher' 'history' 'hit' 'ho' 'ho cprogram' 'hold' 'hell'\n",
      " 'holding' 'hole' 'home' 'homework' 'hope' 'hopefully' 'horrible']\n"
     ]
    }
   ],
   "source": [
    "feature_array = np.array(tfidf.get_feature_names())\n",
    "tfidf_sorting = np.argsort(test_matrix.toarray()).flatten()[::-1]\n",
    "\n",
    "n = 100\n",
    "top_n = feature_array[tfidf_sorting][:n]\n",
    "print(top_n)"
   ]
  },
  {
   "cell_type": "code",
   "execution_count": null,
   "metadata": {
    "collapsed": true
   },
   "outputs": [],
   "source": []
  }
 ],
 "metadata": {
  "kernelspec": {
   "display_name": "Python 3",
   "language": "python",
   "name": "python3"
  },
  "language_info": {
   "codemirror_mode": {
    "name": "ipython",
    "version": 3
   },
   "file_extension": ".py",
   "mimetype": "text/x-python",
   "name": "python",
   "nbconvert_exporter": "python",
   "pygments_lexer": "ipython3",
   "version": "3.6.1"
  },
  "varInspector": {
   "cols": {
    "lenName": 16,
    "lenType": 16,
    "lenVar": 40
   },
   "kernels_config": {
    "python": {
     "delete_cmd_postfix": "",
     "delete_cmd_prefix": "del ",
     "library": "var_list.py",
     "varRefreshCmd": "print(var_dic_list())"
    },
    "r": {
     "delete_cmd_postfix": ") ",
     "delete_cmd_prefix": "rm(",
     "library": "var_list.r",
     "varRefreshCmd": "cat(var_dic_list()) "
    }
   },
   "types_to_exclude": [
    "module",
    "function",
    "builtin_function_or_method",
    "instance",
    "_Feature"
   ],
   "window_display": false
  }
 },
 "nbformat": 4,
 "nbformat_minor": 2
}
